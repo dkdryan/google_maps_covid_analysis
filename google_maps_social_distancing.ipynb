{
 "cells": [
  {
   "cell_type": "markdown",
   "metadata": {},
   "source": [
    "# How to Quantify Social Distancing? Mining Google Maps Location History\n",
    "\n",
    "### David K Ryan \n",
    "\n",
    "Annotated notebook available: https://www.kaggle.com/dkryan/social-distancing-with-google-maps-data  \n",
    "Medium blog post available: https://medium.com/@davidkdryan/how-to-quantify-social-distancing-mining-google-maps-location-history-8673e8094e24"
   ]
  },
  {
   "cell_type": "code",
   "execution_count": null,
   "metadata": {},
   "outputs": [],
   "source": [
    "#import standard libraries \n",
    "import pandas as pd\n",
    "from pandas.io.json import json_normalize  \n",
    "import matplotlib.pyplot as plt\n",
    "%matplotlib inline\n",
    "import numpy as np \n",
    "import seaborn as sns \n",
    "import math\n",
    "import json\n",
    "from math import radians, cos, sin, asin, sqrt\n",
    "\n",
    "#import maps - remove this if you need to install gmaps \n",
    "#!pip install gmaps \n",
    "#import gmaps \n",
    "\n",
    "#import datetime libraries \n",
    "import datetime \n",
    "from datetime import date \n",
    "from datetime import time \n",
    "from datetime import timedelta"
   ]
  },
  {
   "cell_type": "code",
   "execution_count": null,
   "metadata": {},
   "outputs": [],
   "source": [
    "#read json file from google takeout\n",
    "df = pd.read_json('Location History.json')\n",
    "\n",
    "\n",
    "#create a dictionary to parse information from json file \n",
    "df_dict = {}\n",
    "\n",
    "for i in range(10000, 30000): #note the range describes the number of json objects we wish to have in our dataset \n",
    "    \n",
    "    \n",
    "    time = int(df.iloc[i][0]['timestampMs'])\n",
    "    daytime = datetime.fromtimestamp(time/1000.0)\n",
    "    \n",
    "    lat = int(df.iloc[i][0]['latitudeE7'])/10000000\n",
    "    long = int(df.iloc[i][0]['longitudeE7'])/10000000\n",
    "    \n",
    "    print(daytime)\n",
    "    df_dict[daytime] = [long, lat]\n",
    "    \n",
    "#transpose dataframe\n",
    "df = pd.DataFrame.from_dict(df_dict, orient='columns').transpose()\n",
    "\n",
    "#reset index \n",
    "df.reset_index(inplace=True)\n",
    "\n",
    "#rename columns \n",
    "df.columns = ['Datetime', 'Long', 'Lat']\n",
    "\n",
    "#set datatime column as a datetime formate \n",
    "df['Datetime'] = pd.to_datetime(df['Datetime'], format=\"%d/%m/%Y, %H:%M:%S\")\n",
    "\n",
    "#create a geo_tuple as a new column \n",
    "df['geo_tuple'] = list(zip(df['Lat'], df['Long']))\n",
    "\n",
    "#convert to csv \n",
    "df.to_csv('location_history.csv')"
   ]
  },
  {
   "cell_type": "code",
   "execution_count": null,
   "metadata": {},
   "outputs": [],
   "source": [
    "#define coverage \n",
    "\n",
    "def pings_per_hour(df):\n",
    "    \"\"\"This function calculates the number of hours of the day that have a ping associated with them.\n",
    "       It also returns the coverage rate as percentage of hours with at least 1 ping and the average number of pings per hous\"\"\"\n",
    "    \n",
    "    df['hour'] = df['Datetime'].dt.hour\n",
    "    total_hrs = len(df['hour'].value_counts())\n",
    "    coverage = total_hrs/24 \n",
    "    pings_per_hour = df.shape[0]/total_hrs \n",
    "    return(total_hrs, coverage, pings_per_hour)\n",
    "\n",
    "#sleeping geo-location \n",
    "\n",
    "def sleep_location(df):\n",
    "    \n",
    "    \"\"\"This finds the most common location between the hours of 3am and 8am.\n",
    "       If this has no value, most common location for the day is chosen\"\"\"\n",
    "    \n",
    "    date = str((df.iloc[0]['Datetime']).date())\n",
    "    night_start = date + ' 03:00:00'\n",
    "    night_end = date  + ' 08:00:00'\n",
    "    datetime.datetime.strptime(night_start, '%Y-%m-%d %H:%M:%S') \n",
    "    datetime.datetime.strptime(night_end, '%Y-%m-%d %H:%M:%S') \n",
    "    \n",
    "    sleeping_df = df[(df['Datetime'] > night_start) & (df['Datetime'] < night_end)]\n",
    "    \n",
    "    sleeping_geo_tuple = sleeping_df['geo_tuple'].mode()\n",
    "    most_common_geo_tuple = df['geo_tuple'].mode()\n",
    "    \n",
    "    if not any(sleeping_geo_tuple):\n",
    "        sleeping_geo_tuple = most_common_geo_tuple\n",
    "\n",
    "        \n",
    "    else: \n",
    "        sleeping_geo_tuple = sleeping_geo_tuple \n",
    "        \n",
    "\n",
    "    \n",
    "    return(sleeping_geo_tuple)\n",
    "\n",
    "#google maps image showing locations for the day \n",
    "\n",
    "def gmaps_day(df, lat, long, api): \n",
    "    \"\"\"Creates google map for dataframe. Lat and Long represent sleeping geo-locations and are centre point of map. \n",
    "       This requires a google api.\"\"\"\n",
    "    \n",
    "    gmaps.configure(api_key=api)\n",
    "    \n",
    "    start_coordinates = (lat, long)\n",
    "    fig = gmaps.figure(center=start_coordinates, zoom_level=12.5)\n",
    "    \n",
    "    marker_locations = list(zip(df['Lat'], df['Long']))\n",
    "\n",
    "    markers = gmaps.marker_layer(marker_locations)\n",
    "\n",
    "    fig.add_layer(markers)\n",
    "    fig\n",
    "    return(fig)\n",
    "\n",
    "#exclusion zone - function that states if a geo-location is within a certain radius of another geo-location \n",
    "\n",
    "def exclusion_zone(row, radius, lat, long): \n",
    "    \"\"\"returns home if within radius of lat and long\n",
    "       returns away if outside given radius of lat and long. \n",
    "       employs haversine formula\"\"\"\n",
    "    \n",
    "    radius = radius \n",
    "    sleeping_geo_location = (lat, long)\n",
    "    lat1 = sleeping_geo_location[0]\n",
    "    lon1 = sleeping_geo_location[1]\n",
    "    lat2 = row['Lat']\n",
    "    lon2 = row['Long']\n",
    "    \n",
    "    lon1, lat1, lon2, lat2 = map(radians, [lon1, lat1, lon2, lat2])\n",
    "    \n",
    "    # haversine formula \n",
    "    dlon = lon2 - lon1 \n",
    "    dlat = lat2 - lat1 \n",
    "    a = sin(dlat/2)**2 + cos(lat1) * cos(lat2) * sin(dlon/2)**2\n",
    "    c = 2 * asin(sqrt(a)) \n",
    "    r = 6371 # Radius of earth in kilometers. Use 3956 for miles\n",
    "    a = c*r\n",
    "\n",
    "    if a <= radius:\n",
    "        return('Home')\n",
    "    else:\n",
    "        return('Away')\n",
    "    \n",
    "#maximum distance from home function \n",
    "\n",
    "def max_distance_from_home(row, lat, long): \n",
    "    \"\"\"returns max distance from home in km\"\"\"\n",
    "\n",
    "    sleeping_geo_location = (lat, long)\n",
    "    lat1 = sleeping_geo_location[0]\n",
    "    lon1 = sleeping_geo_location[1]\n",
    "    lat2 = row['Lat']\n",
    "    lon2 = row['Long']\n",
    "    \n",
    "    lon1, lat1, lon2, lat2 = map(radians, [lon1, lat1, lon2, lat2])\n",
    "    \n",
    "    # haversine formula \n",
    "    dlon = lon2 - lon1 \n",
    "    dlat = lat2 - lat1 \n",
    "    a = sin(dlat/2)**2 + cos(lat1) * cos(lat2) * sin(dlon/2)**2\n",
    "    c = 2 * asin(sqrt(a)) \n",
    "    r = 6371 # Radius of earth in kilometers. Use 3956 for miles\n",
    "    a = c*r\n",
    "\n",
    "    return(a)\n",
    "\n",
    "#area enclosed within co-ordinates \n",
    "\n",
    "def PolyArea(df):\n",
    "    \n",
    "    x=df['Long']\n",
    "    y=df['Lat']\n",
    "    return 0.5*np.abs(np.dot(x,np.roll(y,1))-np.dot(y,np.roll(x,1)))"
   ]
  },
  {
   "cell_type": "code",
   "execution_count": null,
   "metadata": {},
   "outputs": [],
   "source": [
    "#import data as csv files \n",
    "pre_covid = pd.read_csv('../input/covid-data2/pre_covid_paris2.csv')\n",
    "post_covid = pd.read_csv('../input/covid-data2/paris_post_covid.csv')\n",
    "\n",
    "\n",
    "#drop redundant columns \n",
    "pre_covid.drop(columns=['Unnamed: 0'], axis=1, inplace=True)\n",
    "post_covid.drop(columns=['Unnamed: 0', 'Unnamed: 0.1', 'Unnamed: 0.1.1', 'Unnamed: 0.1.1.1', 'Unnamed: 0.1.1.1.1'], axis=1, inplace=True)\n",
    "\n",
    "#reformat datetime\n",
    "pre_covid['Datetime'] = pd.to_datetime(pre_covid['Datetime'], format=\"%Y-%m-%d %H:%M:%S\")\n",
    "post_covid['Datetime'] = pd.to_datetime(post_covid['Datetime'], format=\"%Y-%m-%d %H:%M:%S\")"
   ]
  },
  {
   "cell_type": "code",
   "execution_count": null,
   "metadata": {},
   "outputs": [],
   "source": [
    "pings_per_hour(pre_covid)"
   ]
  },
  {
   "cell_type": "code",
   "execution_count": null,
   "metadata": {},
   "outputs": [],
   "source": [
    "pings_per_hour(post_covid)"
   ]
  },
  {
   "cell_type": "code",
   "execution_count": null,
   "metadata": {},
   "outputs": [],
   "source": [
    "pre_covid['hour'] = pre_covid['Datetime'].dt.hour\n",
    "pre_covid_coverage = pd.DataFrame(pre_covid['hour'].value_counts().sort_index(ascending=True)).reset_index()\n",
    "pre_covid_coverage.columns = ['24 hour', 'pings']"
   ]
  },
  {
   "cell_type": "code",
   "execution_count": null,
   "metadata": {},
   "outputs": [],
   "source": [
    "post_covid['hour'] = post_covid['Datetime'].dt.hour\n",
    "post_covid_coverage = pd.DataFrame(post_covid['hour'].value_counts().sort_index(ascending=True)).reset_index()\n",
    "post_covid_coverage.columns = [' 24 hour', 'pings']"
   ]
  },
  {
   "cell_type": "code",
   "execution_count": null,
   "metadata": {},
   "outputs": [],
   "source": [
    "pre_covid_coverage"
   ]
  },
  {
   "cell_type": "code",
   "execution_count": null,
   "metadata": {},
   "outputs": [],
   "source": [
    "post_covid_coverage"
   ]
  },
  {
   "cell_type": "code",
   "execution_count": null,
   "metadata": {},
   "outputs": [],
   "source": [
    "sleep_location(pre_covid)"
   ]
  },
  {
   "cell_type": "code",
   "execution_count": null,
   "metadata": {},
   "outputs": [],
   "source": [
    "sleep_location(post_covid)"
   ]
  },
  {
   "cell_type": "code",
   "execution_count": null,
   "metadata": {},
   "outputs": [],
   "source": [
    "gmaps_day(pre_covid, 48.84954515968211, 2.3391025994419903)"
   ]
  },
  {
   "cell_type": "code",
   "execution_count": null,
   "metadata": {},
   "outputs": [],
   "source": [
    "gmaps_day(post_covid, 48.856599912662276, 2.3522000741992013)"
   ]
  },
  {
   "cell_type": "code",
   "execution_count": null,
   "metadata": {},
   "outputs": [],
   "source": [
    "#pre_covid\n",
    "gmaps.configure(api_key='api') #insert own api here \n",
    "    \n",
    "start_coordinates = (48.84954515968211, 2.3391025994419903) #start co-ordinates are for where the map should be centred\n",
    "\n",
    "fig = gmaps.figure(center=start_coordinates, zoom_level=14)\n",
    "    \n",
    "# Adding a marker layer for home co-ordinates \n",
    "home = [(48.84954515968211, 2.3391025994419903)]\n",
    "marker_layer = gmaps.marker_layer(home)\n",
    "fig.add_layer(marker_layer)\n",
    "\n",
    "\n",
    "# Adding a heatmap layer to the map\n",
    "heatmap_layer = gmaps.heatmap_layer(pre_covid[['Lat', 'Long']], point_radius=10, dissipating=False)\n",
    "fig.add_layer(heatmap_layer)\n",
    "\n",
    "fig"
   ]
  },
  {
   "cell_type": "code",
   "execution_count": null,
   "metadata": {},
   "outputs": [],
   "source": [
    "#post-covid\n",
    "gmaps.configure(api_key='api') #insert own api here \n",
    "    \n",
    "start_coordinates = (48.856599912662276, 2.3522000741992013) #start co-ordinates are for where the map should be centred\n",
    "\n",
    "fig = gmaps.figure(center=start_coordinates, zoom_level=14)\n",
    "    \n",
    "# Adding a marker layer for home co-ordinates \n",
    "home = [(48.856599912662276, 2.3522000741992013)]\n",
    "marker_layer = gmaps.marker_layer(home)\n",
    "fig.add_layer(marker_layer)\n",
    "\n",
    "\n",
    "# Adding a heatmap layer to the map\n",
    "heatmap_layer = gmaps.heatmap_layer(post_covid[['Lat', 'Long']], point_radius=10, dissipating=False)\n",
    "fig.add_layer(heatmap_layer)\n",
    "\n",
    "fig"
   ]
  },
  {
   "cell_type": "code",
   "execution_count": null,
   "metadata": {},
   "outputs": [],
   "source": [
    "#Time at home\n",
    "pre_covid['Home_Away'] = pre_covid.apply(lambda row: exclusion_zone(row, 0.5, 48.84954515968211, 2.3391025994419903), axis=1)\n",
    "post_covid['Home_Away'] = post_covid.apply(lambda row: exclusion_zone(row, 0.5, 48.856599912662276, 2.3522000741992013), axis=1)"
   ]
  },
  {
   "cell_type": "code",
   "execution_count": null,
   "metadata": {},
   "outputs": [],
   "source": [
    "pre_covid['Home_Away'].value_counts()"
   ]
  },
  {
   "cell_type": "code",
   "execution_count": null,
   "metadata": {},
   "outputs": [],
   "source": [
    "post_covid['Home_Away'].value_counts("
   ]
  },
  {
   "cell_type": "code",
   "execution_count": null,
   "metadata": {},
   "outputs": [],
   "source": [
    "pre_covid['Home_Away'].value_counts().plot(kind='bar', title='Pre-covid')"
   ]
  },
  {
   "cell_type": "code",
   "execution_count": null,
   "metadata": {},
   "outputs": [],
   "source": [
    "post_covid['Home_Away'].value_counts().plot(kind='bar', title='Post-covid')"
   ]
  },
  {
   "cell_type": "code",
   "execution_count": null,
   "metadata": {},
   "outputs": [],
   "source": [
    "#Distance from home \n",
    "pre_covid['Distance_from_home'] = pre_covid.apply(lambda row: max_distance_from_home(row, 48.84954515968211, 2.3391025994419903), axis=1)\n",
    "post_covid['Distance_from_home'] = post_covid.apply(lambda row: max_distance_from_home(row, 48.856599912662276, 2.3522000741992013), axis=1)"
   ]
  },
  {
   "cell_type": "code",
   "execution_count": null,
   "metadata": {},
   "outputs": [],
   "source": [
    "#Distance from home post-covid \n",
    "pre_covid['Distance_from_home'].describe()"
   ]
  },
  {
   "cell_type": "code",
   "execution_count": null,
   "metadata": {},
   "outputs": [],
   "source": [
    "sns.distplot(pre_covid['Distance_from_home'], kde=False).set_title('Pre-covid distance histogram');"
   ]
  },
  {
   "cell_type": "code",
   "execution_count": null,
   "metadata": {},
   "outputs": [],
   "source": [
    "sns.distplot(post_covid['Distance_from_home'], kde=False).set_title('Post-covid distance histogram');"
   ]
  },
  {
   "cell_type": "code",
   "execution_count": null,
   "metadata": {},
   "outputs": [],
   "source": [
    "#reformat the datetime to another column just detailing hour \n",
    "pre_covid['hour'] = pre_covid['Datetime'].dt.hour\n",
    "post_covid['hour'] = post_covid['Datetime'].dt.hour"
   ]
  },
  {
   "cell_type": "code",
   "execution_count": null,
   "metadata": {},
   "outputs": [],
   "source": [
    "sns.scatterplot(pre_covid['Distance_from_home'], pre_covid['hour']).set_title('Pre-covid: Distance from home according to hour');"
   ]
  },
  {
   "cell_type": "code",
   "execution_count": null,
   "metadata": {},
   "outputs": [],
   "source": [
    "sns.scatterplot(post_covid['Distance_from_home'], post_covid['hour']).set_title('Post-covid: Distance from home according to hour');"
   ]
  },
  {
   "cell_type": "code",
   "execution_count": null,
   "metadata": {},
   "outputs": [],
   "source": [
    "#combine the two dataframes \n",
    "\n",
    "combined_df = pd.concat([pre_covid, post_covid])\n",
    "\n",
    "#add another column according to whether the data is from pre_covid or post_covid times... \n",
    "\n",
    "def pre_or_post_covid(row): \n",
    "    \n",
    "    if str(row['Datetime'].date()) == '2013-12-18': \n",
    "        return('pre_covid')\n",
    "    elif str(row['Datetime'].date()) == '2013-12-11':\n",
    "        return('post_covid')\n",
    "    \n",
    "combined_df['pre_or_post_covid'] = combined_df.apply(pre_or_post_covid, axis=1)"
   ]
  },
  {
   "cell_type": "code",
   "execution_count": null,
   "metadata": {},
   "outputs": [],
   "source": [
    "#check that this has done the task correctly - value counts are correct \n",
    "combined_df['pre_or_post_covid'].value_counts()"
   ]
  },
  {
   "cell_type": "code",
   "execution_count": null,
   "metadata": {},
   "outputs": [],
   "source": [
    "sns.scatterplot(x = 'Distance_from_home', y= 'hour', data=combined_df, hue='pre_or_post_covid').set_title('Distance from home by hour')"
   ]
  },
  {
   "cell_type": "code",
   "execution_count": null,
   "metadata": {},
   "outputs": [],
   "source": [
    "#shoelace formula \n",
    "PolyArea(pre_covid)\n",
    "PolyArea(post_covid)"
   ]
  },
  {
   "cell_type": "code",
   "execution_count": null,
   "metadata": {},
   "outputs": [],
   "source": [
    "#Time at home \n",
    "\n",
    "#set time at zero \n",
    "time_at_home = datetime.timedelta(seconds=0)\n",
    "\n",
    "#for loop to iterate through the dataframe \n",
    "for i in range(0, pre_covid.shape[0]): \n",
    "    \n",
    "    row = i \n",
    "    next_row = i + 1 \n",
    "    \n",
    "    #if I am at the last row - skip \n",
    "    if row == (pre_covid.shape[0]-1): \n",
    "        pass \n",
    "    \n",
    "    else:\n",
    "        \n",
    "        #if I am at home \n",
    "        if 'Home' in pre_covid.iloc[row]['Home_Away']: \n",
    "        \n",
    "            #and my next row says that I am still at home by the next ping \n",
    "            if 'Home' in pre_covid.iloc[next_row]['Home_Away']: \n",
    "                \n",
    "                #find the difference in times \n",
    "                duration = pre_covid.iloc[next_row]['Datetime'] - pre_covid.iloc[row]['Datetime']\n",
    "                \n",
    "                #add this time to the time_at_home timer\n",
    "                time_at_home += duration\n",
    "            \n",
    "            else: \n",
    "                pass "
   ]
  },
  {
   "cell_type": "code",
   "execution_count": null,
   "metadata": {},
   "outputs": [],
   "source": [
    "print('pre-covid time at home: ', time_at_home)"
   ]
  },
  {
   "cell_type": "code",
   "execution_count": null,
   "metadata": {},
   "outputs": [],
   "source": [
    "time_at_home = datetime.timedelta(seconds=0)\n",
    "\n",
    "for i in range(0, post_covid.shape[0]): \n",
    "    \n",
    "    row = i \n",
    "    next_row = i + 1 \n",
    "    \n",
    "    if row == (post_covid.shape[0]-1): \n",
    "        pass \n",
    "    \n",
    "    else:\n",
    "        \n",
    "        if 'Home' in post_covid.iloc[row]['Home_Away']: \n",
    "        \n",
    "            if 'Home' in post_covid.iloc[next_row]['Home_Away']: \n",
    "            \n",
    "                duration = post_covid.iloc[next_row]['Datetime'] - post_covid.iloc[row]['Datetime']\n",
    "            \n",
    "                time_at_home += duration\n",
    "            \n",
    "            else: \n",
    "                pass \n",
    "        \n",
    "print('post-covid time at home: ', time_at_home)"
   ]
  },
  {
   "cell_type": "code",
   "execution_count": null,
   "metadata": {},
   "outputs": [],
   "source": [
    "post_covid.groupby('Home_Away')['geo_tuple'].value_counts()"
   ]
  },
  {
   "cell_type": "code",
   "execution_count": null,
   "metadata": {},
   "outputs": [],
   "source": [
    "pre_covid.groupby('Home_Away')['geo_tuple'].value_counts()"
   ]
  },
  {
   "cell_type": "code",
   "execution_count": null,
   "metadata": {},
   "outputs": [],
   "source": [
    "sleep_location(post_covid)"
   ]
  },
  {
   "cell_type": "code",
   "execution_count": null,
   "metadata": {},
   "outputs": [],
   "source": [
    "def time_per_place_dataframe(df): \n",
    "    \n",
    "    #create a dataframe to count pings per location for away \n",
    "    away_m = df['Home_Away'] == 'Away'\n",
    "    away_df = df[away_m]\n",
    "    away_df= pd.DataFrame(away_df['geo_tuple'].value_counts().reset_index())\n",
    "    away_df.columns = ['geo_tuple', 'pings']\n",
    "    return(away_df)\n",
    "    "
   ]
  },
  {
   "cell_type": "code",
   "execution_count": null,
   "metadata": {},
   "outputs": [],
   "source": [
    "pings_df = time_per_place_dataframe(post_covid)\n",
    "pings_df.head()"
   ]
  },
  {
   "cell_type": "code",
   "execution_count": null,
   "metadata": {},
   "outputs": [],
   "source": [
    "#library analysis \n",
    "library_m = post_covid['geo_tuple'] == '(48.84413542128853, 2.3545557504317665)'\n",
    "\n",
    "library_df = post_covid[library_m]\n",
    "\n",
    "library_df"
   ]
  },
  {
   "cell_type": "code",
   "execution_count": null,
   "metadata": {},
   "outputs": [],
   "source": [
    "def duration_per_place(df): \n",
    "    \"\"\"Returns the top 10 locations and the time spent at each location\"\"\"\n",
    "    \n",
    "    away_m = df['Home_Away'] == 'Away'\n",
    "    away_df = df[away_m]\n",
    "    \n",
    "    pings_df= pd.DataFrame(away_df['geo_tuple'].value_counts().reset_index())\n",
    "    pings_df.columns = ['geo_tuple', 'pings']\n",
    "\n",
    "    durations = {}\n",
    "\n",
    "    for i in range(0, 10):\n",
    "    \n",
    "        geo_tuple = pings_df.iloc[i]['geo_tuple']\n",
    "    \n",
    "        location_m = away_df['geo_tuple'] == geo_tuple \n",
    "        location_df = away_df[location_m]\n",
    "    \n",
    "        time = location_df.iloc[-1]['Datetime'] - location_df.iloc[0]['Datetime']\n",
    "    \n",
    "        durations[geo_tuple] = time\n",
    "        \n",
    "    return(durations)"
   ]
  },
  {
   "cell_type": "code",
   "execution_count": null,
   "metadata": {},
   "outputs": [],
   "source": [
    "post_covid_durations = duration_per_place(post_covid)\n",
    "post_covid_durations_df = pd.DataFrame.from_dict(post_covid_durations, orient='index').reset_index()\n",
    "post_covid_durations_df.columns = ['geo_tuple', 'time']"
   ]
  },
  {
   "cell_type": "code",
   "execution_count": null,
   "metadata": {},
   "outputs": [],
   "source": [
    "post_covid_durations_df"
   ]
  },
  {
   "cell_type": "code",
   "execution_count": null,
   "metadata": {},
   "outputs": [],
   "source": [
    "pre_covid_durations = duration_per_place(pre_covid)\n",
    "pre_covid_durations_df = pd.DataFrame.from_dict(pre_covid_durations, orient='index').reset_index()\n",
    "pre_covid_durations_df.columns = ['geo_tuple', 'time']\n"
   ]
  },
  {
   "cell_type": "code",
   "execution_count": null,
   "metadata": {},
   "outputs": [],
   "source": [
    "#this function adds a new column to the dataframe, returning yes or no if I was within 0.2Km of the library\n",
    "def library_zone(row, radius, lat, long): \n",
    "    \"\"\"returns home if within radius of lat and long\n",
    "       returns away if outside given radius of lat and long. \n",
    "       employs haversine formula\"\"\"\n",
    "    \n",
    "    radius = radius \n",
    "    sleeping_geo_location = (lat, long)\n",
    "    lat1 = sleeping_geo_location[0]\n",
    "    lon1 = sleeping_geo_location[1]\n",
    "    lat2 = row['Lat']\n",
    "    lon2 = row['Long']\n",
    "    \n",
    "    lon1, lat1, lon2, lat2 = map(radians, [lon1, lat1, lon2, lat2])\n",
    "    \n",
    "    # haversine formula \n",
    "    dlon = lon2 - lon1 \n",
    "    dlat = lat2 - lat1 \n",
    "    a = sin(dlat/2)**2 + cos(lat1) * cos(lat2) * sin(dlon/2)**2\n",
    "    c = 2 * asin(sqrt(a)) \n",
    "    r = 6371 # Radius of earth in kilometers. Use 3956 for miles\n",
    "    a = c*r\n",
    "\n",
    "    if a <= radius:\n",
    "        return('library')\n",
    "    else:\n",
    "        return('away')"
   ]
  },
  {
   "cell_type": "code",
   "execution_count": null,
   "metadata": {},
   "outputs": [],
   "source": [
    "post_covid['library_YN'] = post_covid.apply(lambda row: library_zone(row, 0.2, 48.84413542128853, 2.3545557504317665), axis=1)"
   ]
  },
  {
   "cell_type": "code",
   "execution_count": null,
   "metadata": {},
   "outputs": [],
   "source": [
    "post_covid['library_YN'].value_counts()"
   ]
  },
  {
   "cell_type": "code",
   "execution_count": null,
   "metadata": {},
   "outputs": [],
   "source": [
    "time_at_library = datetime.timedelta(seconds=0)\n",
    "\n",
    "for i in range(0, post_covid.shape[0]): \n",
    "    \n",
    "    row = i \n",
    "    next_row = i + 1 \n",
    "    \n",
    "    if row == (post_covid.shape[0]-1): \n",
    "        pass \n",
    "    \n",
    "    else:\n",
    "        \n",
    "        if post_covid.iloc[row]['geo_tuple'] == '(48.84413542128853, 2.3545557504317665)': \n",
    "        \n",
    "            if post_covid.iloc[next_row]['geo_tuple'] == '(48.84413542128853, 2.3545557504317665)': \n",
    "                \n",
    "                duration = post_covid.iloc[next_row]['Datetime'] - post_covid.iloc[row]['Datetime']\n",
    "            \n",
    "                time_at_library += duration\n",
    "            \n",
    "            else: \n",
    "                pass "
   ]
  },
  {
   "cell_type": "code",
   "execution_count": null,
   "metadata": {},
   "outputs": [],
   "source": [
    "time_at_library"
   ]
  },
  {
   "cell_type": "code",
   "execution_count": null,
   "metadata": {},
   "outputs": [],
   "source": []
  }
 ],
 "metadata": {
  "kernelspec": {
   "display_name": "Python 3",
   "language": "python",
   "name": "python3"
  },
  "language_info": {
   "codemirror_mode": {
    "name": "ipython",
    "version": 3
   },
   "file_extension": ".py",
   "mimetype": "text/x-python",
   "name": "python",
   "nbconvert_exporter": "python",
   "pygments_lexer": "ipython3",
   "version": "3.7.4"
  }
 },
 "nbformat": 4,
 "nbformat_minor": 4
}
